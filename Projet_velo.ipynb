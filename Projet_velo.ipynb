{
 "cells": [
  {
   "cell_type": "markdown",
   "id": "2957cd7f-707a-4faa-bd29-67b525d4d738",
   "metadata": {},
   "source": [
    "Nous allons utiliser ce code pour comprendre le fonctionnement des utilsateur du vélo à Paris. Pour cela nous allons utiliser des résultats assez symle qui sont des moyens par heure, jour, mois. Ainsi qu'une analyse géographiques. "
   ]
  },
  {
   "cell_type": "markdown",
   "id": "3063df35-c4ac-44f7-bb02-0d2476b78329",
   "metadata": {},
   "source": [
    "# Importation"
   ]
  },
  {
   "cell_type": "markdown",
   "id": "dcdaeedd-79d2-4e8e-bee5-600ac3172f57",
   "metadata": {},
   "source": [
    "Nous commençons par importer les bibliothèques dont nous aurons besoin pour ce projet."
   ]
  },
  {
   "cell_type": "code",
   "execution_count": 1,
   "id": "e01fd28c-9766-4307-8891-70485493a046",
   "metadata": {},
   "outputs": [],
   "source": [
    "import numpy as np\n",
    "import pandas as pd\n",
    "import matplotlib.pyplot as plt\n",
    "import plotly.express as px\n",
    "import plotly.graph_objects as go\n",
    "import geopandas as gpd\n"
   ]
  },
  {
   "cell_type": "markdown",
   "id": "ecf71196-48d8-43f1-8048-29f53452bddd",
   "metadata": {},
   "source": [
    "Nous modifions nos csv en dataframe pour pouvoir travailler dessus."
   ]
  },
  {
   "cell_type": "code",
   "execution_count": 2,
   "id": "7058df28-099a-417a-8e62-66900f6b578a",
   "metadata": {},
   "outputs": [],
   "source": [
    "df = pd.read_csv(\"comptage-velo-donnees-compteurs-annee.csv\", sep=\";\")"
   ]
  },
  {
   "cell_type": "markdown",
   "id": "ef957eb2-bbbf-4431-91d5-7eacdfaa4b35",
   "metadata": {},
   "source": [
    "Nous allons maintenant procéder au nettoyage des données."
   ]
  },
  {
   "cell_type": "markdown",
   "id": "890416a2-4d98-4730-9ec6-b38111da3325",
   "metadata": {},
   "source": [
    "# Nettoyage"
   ]
  },
  {
   "cell_type": "markdown",
   "id": "0c33df39-4a5e-4a29-8d67-bbb0d9dd7523",
   "metadata": {},
   "source": [
    "Nous commençons par sélectionner les colonnes qui nous intéressent."
   ]
  },
  {
   "cell_type": "code",
   "execution_count": 3,
   "id": "0179d151-2a3b-48e7-89b2-d7bf1102a299",
   "metadata": {},
   "outputs": [],
   "source": [
    "df = df[[\n",
    "    \"Date et heure de comptage\",\n",
    "    \"Identifiant du site de comptage\",\n",
    "    \"Identifiant du compteur\",\n",
    "    \"Nom du site de comptage\",\n",
    "    \"Comptage horaire\",\n",
    "    \"Coordonnées géographiques\"\n",
    "]]"
   ]
  },
  {
   "cell_type": "markdown",
   "id": "c5e91c55-567f-467a-943e-85f13fb05600",
   "metadata": {},
   "source": [
    "Nous supprimons les lignes incomplètes"
   ]
  },
  {
   "cell_type": "code",
   "execution_count": 4,
   "id": "0e3180a4-ae87-4153-a88a-c506b6737a11",
   "metadata": {},
   "outputs": [],
   "source": [
    "df = df.dropna()"
   ]
  },
  {
   "cell_type": "markdown",
   "id": "0c2ee22e-64f1-439d-a4dc-4e7fdd801159",
   "metadata": {},
   "source": [
    "Une analyse rapide a permis de détecter des capteurs enregistrant constamment 0 vélo.  \n",
    "On suppose qu'ils sont défectueux et nous allons donc les supprimer."
   ]
  },
  {
   "cell_type": "code",
   "execution_count": 5,
   "id": "f37fc6d6-3a87-4d70-aeda-03c967ed7a95",
   "metadata": {},
   "outputs": [],
   "source": [
    "defecteux = df.groupby(\"Identifiant du site de comptage\").agg(\n",
    "    Moyenne_velo=(\"Comptage horaire\", \"mean\")\n",
    ").reset_index()\n",
    "sites_defectueux = defecteux[defecteux[\"Moyenne_velo\"] == 0][\"Identifiant du site de comptage\"].tolist()\n",
    "df = df[~df[\"Identifiant du site de comptage\"].isin(sites_defectueux)]"
   ]
  },
  {
   "cell_type": "markdown",
   "id": "37f16081-969b-425e-98fa-52b1c8585c4c",
   "metadata": {},
   "source": [
    "Nous souhaitons travailler sur des adresses propres, c'est-à-dire en conservant uniquement le type de voie et le nom de l'adresse."
   ]
  },
  {
   "cell_type": "code",
   "execution_count": 6,
   "id": "abaf0d77-0d43-46ff-8f53-22355d08e5d6",
   "metadata": {},
   "outputs": [],
   "source": [
    "df[\"Nom du site de comptage\"] = (\n",
    "    df[\"Nom du site de comptage\"]\n",
    "    .str.replace(r\"^(Face\\s*au\\s*\\d+\\s*)\", \"\", regex=True)\n",
    "    .str.replace(r\"^(Totem\\s*\\d+\\s*)\", \"\", regex=True)\n",
    "    .str.replace(r\"^\\d+\\s*\", \"\", regex=True)\n",
    "    .str.strip()\n",
    ")"
   ]
  },
  {
   "cell_type": "markdown",
   "id": "76f6f477-a621-46ea-81aa-eb18fb35bfbe",
   "metadata": {},
   "source": [
    "Nous allons maintenant nettoyer les heures.  \n",
    "Pour cela, nous supprimons les informations de fuseau horaire afin de gérer correctement l'heure d'hiver et l'heure d'été."
   ]
  },
  {
   "cell_type": "code",
   "execution_count": 7,
   "id": "62a22be3-15d1-43d6-a149-2cdd6bfac3fa",
   "metadata": {},
   "outputs": [],
   "source": [
    "df[\"Date et heure de comptage\"] = pd.to_datetime(df[\"Date et heure de comptage\"], errors=\"coerce\", utc=True)\n",
    "df[\"Date et heure de comptage\"] = df[\"Date et heure de comptage\"].dt.tz_convert(None)\n"
   ]
  },
  {
   "cell_type": "markdown",
   "id": "3701ffb3-fd6b-4b88-8caa-751f7f6f8dd0",
   "metadata": {},
   "source": [
    "Ensuite, nous allons créer les variables heures, jours et mois à partir de ces données.\n",
    "\n",
    "Nous allons utiliser jour_num et mois_num pour pouvoir trier dans l'ordre de la semaine et des mois.\n",
    "\n",
    "Pour la variable heures, nous ajoutons 1, car Paris se situe en UTC+1.\n",
    "\n",
    "    "
   ]
  },
  {
   "cell_type": "code",
   "execution_count": 33,
   "id": "53516062-ff73-4a02-b2cc-fc81bffe22f5",
   "metadata": {},
   "outputs": [],
   "source": [
    "df[\"Heure\"] = df[\"Date et heure de comptage\"].dt.hour + 1\n",
    "df[\"Jour_num\"] = df[\"Date et heure de comptage\"].dt.dayofweek\n",
    "df[\"Mois_num\"] = df[\"Date et heure de comptage\"].dt.month"
   ]
  },
  {
   "cell_type": "markdown",
   "id": "0876df08-153b-48bb-b10a-2124d0e15341",
   "metadata": {},
   "source": [
    "Nous utiliserons plus tard ses listes pour avoir les noms des jours et des mois en français."
   ]
  },
  {
   "cell_type": "code",
   "execution_count": 43,
   "id": "1d2c51b6-9ac6-4e59-85ec-3033dd8afd51",
   "metadata": {},
   "outputs": [],
   "source": [
    "jours_fr = {\n",
    "    0: \"Lundi\", 1: \"Mardi\", 2: \"Mercredi\",\n",
    "    3: \"Jeudi\", 4: \"Vendredi\", 5: \"Samedi\", 6: \"Dimanche\"\n",
    "}\n",
    "\n",
    "mois_fr = {\n",
    "    1: \"Janvier\",2: \"Février\",3: \"Mars\",4: \"Avril\",\n",
    "    5: \"Mai\",6: \"Juin\",7: \"Juillet\",8: \"Août\",\n",
    "    9: \"Septembre\",10: \"Octobre\",11: \"Novembre\",12: \"Décembre\"\n",
    "}"
   ]
  },
  {
   "cell_type": "markdown",
   "id": "a6582056-af51-435e-8a0f-085fe7df7ce7",
   "metadata": {},
   "source": [
    "Pour calculer la moyenne par mois, il est nécessaire de normaliser les données en fonction du nombre de jours de chaque mois."
   ]
  },
  {
   "cell_type": "code",
   "execution_count": 11,
   "id": "24f2068a-2dd1-48f0-af12-03d53cf5834b",
   "metadata": {},
   "outputs": [],
   "source": [
    "jours_par_mois = (\n",
    "    df.groupby(\"Mois_num\")[\"Date et heure de comptage\"]\n",
    "      .apply(lambda x: x.dt.date.nunique())\n",
    "      .reset_index(name=\"Nb_jours\")\n",
    ")"
   ]
  },
  {
   "cell_type": "markdown",
   "id": "a639a04d-5989-4951-bb6a-d3f91b1da383",
   "metadata": {},
   "source": [
    "Nous souhaitons également récupérer les données de latitude et de longitude des capteurs afin de pouvoir les placer sur une carte ensuite."
   ]
  },
  {
   "cell_type": "code",
   "execution_count": 10,
   "id": "b9c13948-7c77-467e-a3d2-93cda558f0f6",
   "metadata": {},
   "outputs": [],
   "source": [
    "df[[\"lat\", \"lon\"]] = df[\"Coordonnées géographiques\"].str.split(\",\", expand=True).astype(float)"
   ]
  },
  {
   "cell_type": "markdown",
   "id": "0ee40028-875f-40f9-9ee9-d01e6abf5d76",
   "metadata": {},
   "source": [
    "Enfin, nous effectuons des vérifications pour nous assurer qu'il n'y a ni doublons, ni valeurs NaN dans nos données."
   ]
  },
  {
   "cell_type": "code",
   "execution_count": 12,
   "id": "c16f9acc-1dc0-4a08-8d45-7d3447997608",
   "metadata": {},
   "outputs": [
    {
     "name": "stdout",
     "output_type": "stream",
     "text": [
      "Nombre de doublons : 0\n",
      "Valeurs manquantes restantes :\n",
      "Date et heure de comptage          0\n",
      "Identifiant du site de comptage    0\n",
      "Identifiant du compteur            0\n",
      "Nom du site de comptage            0\n",
      "Comptage horaire                   0\n",
      "Coordonnées géographiques          0\n",
      "Heure                              0\n",
      "Jour                               0\n",
      "Jour_num                           0\n",
      "Mois                               0\n",
      "Mois_num                           0\n",
      "lat                                0\n",
      "lon                                0\n",
      "dtype: int64\n"
     ]
    }
   ],
   "source": [
    "print(\"Nombre de doublons :\", df.duplicated().sum())\n",
    "print(\"Valeurs manquantes restantes :\")\n",
    "print(df.isnull().sum())"
   ]
  },
  {
   "cell_type": "markdown",
   "id": "21412e98-c42c-41f3-a172-5c1e0545e631",
   "metadata": {},
   "source": [
    "Nous avons terminé la mise en place des variables et pouvons maintenant passer à l'analyse. "
   ]
  },
  {
   "cell_type": "markdown",
   "id": "92d76efe-1fe2-4196-b1d5-e02f5b8b5740",
   "metadata": {},
   "source": [
    "# Analyse"
   ]
  },
  {
   "cell_type": "markdown",
   "id": "08cdbf02-0480-430c-93c0-f076abc18a5b",
   "metadata": {},
   "source": [
    "Pour commencer, nous allons calculer les moyennes journalières par heure.  \n",
    "Pour ce faire, nous divisons les données par 365 (nombre de jours dans l'année)."
   ]
  },
  {
   "cell_type": "code",
   "execution_count": 13,
   "id": "83d2e88a-44f6-4b4f-8073-792655bd2cbf",
   "metadata": {},
   "outputs": [],
   "source": [
    "moyenne_heure = (\n",
    "    (df.groupby(\"Heure\")[\"Comptage horaire\"].sum() / 365)\n",
    "    .reset_index().round(1)\n",
    "    .sort_values(by=\"Heure\")\n",
    ")"
   ]
  },
  {
   "cell_type": "markdown",
   "id": "48cbfd10-5861-4bef-ac6e-130e13e55299",
   "metadata": {},
   "source": [
    "Nous procédons de la même manière pour calculer la moyenne par jour (52 = nombre de semaines dans l'année)."
   ]
  },
  {
   "cell_type": "code",
   "execution_count": 29,
   "id": "2842b5c9-8492-4f4f-860e-db3e508aeeca",
   "metadata": {},
   "outputs": [],
   "source": [
    "moyenne_jour = (\n",
    "    (df.groupby(\"Jour_num\")[\"Comptage horaire\"].sum() / 52)\n",
    "    .reset_index().round(1)\n",
    "    .sort_values(by=\"Jour_num\", ascending=True)\n",
    ")"
   ]
  },
  {
   "cell_type": "markdown",
   "id": "41e9b2c4-d0b9-4c1e-9789-2514001380c6",
   "metadata": {},
   "source": [
    "Nous appliquons maintenant la liste plus haut pour avoir nos noms en français"
   ]
  },
  {
   "cell_type": "code",
   "execution_count": null,
   "id": "8fc03311-fd56-4b42-a6e0-77a0e7c47af8",
   "metadata": {},
   "outputs": [],
   "source": [
    "moyenne_jour[\"Jour\"] = moyenne_jour[\"Jour_num\"].map(jours_fr)"
   ]
  },
  {
   "cell_type": "markdown",
   "id": "137b418e-b81a-488c-8ba5-134930fad5b1",
   "metadata": {},
   "source": [
    "Pour les mois, la situation est un peu plus complexe, car nous devons normaliser les données en fonction du nombre de jours de chaque mois."
   ]
  },
  {
   "cell_type": "code",
   "execution_count": 44,
   "id": "a57609cd-6af6-478d-b295-91ed62573808",
   "metadata": {},
   "outputs": [],
   "source": [
    "somme_mois = df.groupby(\"Mois_num\")[\"Comptage horaire\"].sum().reset_index(name=\"Total_velos\")\n",
    "moyenne_mois = somme_mois.merge(jours_par_mois, on=\"Mois_num\")\n",
    "moyenne_mois[\"Moyenne_jour\"] = (moyenne_mois[\"Total_velos\"] / moyenne_mois[\"Nb_jours\"]).round(1)"
   ]
  },
  {
   "cell_type": "markdown",
   "id": "fc67d6f5-c19e-417e-8da5-5c5f8e32378b",
   "metadata": {},
   "source": [
    "Nous faisons comme pour les jours afin d'obtenir un résultat en français."
   ]
  },
  {
   "cell_type": "code",
   "execution_count": 45,
   "id": "02de5bcb-9267-4c96-bbe3-29979008ef0c",
   "metadata": {},
   "outputs": [],
   "source": [
    "moyenne_mois[\"Mois\"] = moyenne_mois[\"Mois_num\"].map(mois_fr)"
   ]
  },
  {
   "cell_type": "markdown",
   "id": "f89882ff-2209-4b84-a374-e3e104ab893e",
   "metadata": {},
   "source": [
    "Nous allons ici calculer quelques KPI et effectuer des calculs qui nous serviront ensuite pour la création des graphiques."
   ]
  },
  {
   "cell_type": "code",
   "execution_count": null,
   "id": "17d0cc35-2297-4e46-a5ae-1ef4c8080a25",
   "metadata": {},
   "outputs": [],
   "source": [
    "# Pic du matin et du soir\n",
    "pic_matin = moyenne_heure.idxmax() if moyenne_heure.index[0] < 12 else \"Non défini\"\n",
    "pic_soir = moyenne_heure.idxmax() if moyenne_heure.index[0] >= 12 else \"Non défini\"\n",
    "\n",
    "# Jours avec le plus et le moins de trafic\n",
    "moyenne_annee = df.groupby(\"Jour\")[\"Comptage horaire\"].sum() / 365\n",
    "jour_max = moyenne_annee.idxmax()\n",
    "jour_min = moyenne_annee.idxmin()\n",
    "\n",
    "# Mois avec le plus et le moins de trafic\n",
    "mois_max = moyenne_mois.loc[moyenne_mois[\"Moyenne_jour\"].idxmax(), \"Mois\"]\n",
    "mois_min = moyenne_mois.loc[moyenne_mois[\"Moyenne_jour\"].idxmin(), \"Mois\"]\n",
    "\n",
    "# Trafic moyen journalier\n",
    "trafic_moyen = int(df[\"Comptage horaire\"].sum() / 365)"
   ]
  },
  {
   "cell_type": "markdown",
   "id": "bd484590-17cd-4a86-83a9-e678466d1535",
   "metadata": {},
   "source": [
    "Nous pouvons maintenant passer à la visualisation des données."
   ]
  },
  {
   "cell_type": "markdown",
   "id": "26599429-ebfe-4d51-8bc9-75b080def0a6",
   "metadata": {},
   "source": [
    "# Visualisation"
   ]
  },
  {
   "cell_type": "markdown",
   "id": "9489454e-7a30-49e3-98d6-52406d0cb39a",
   "metadata": {},
   "source": [
    "Commençons par afficher les graphiques des moyennes journalières selon l'heure."
   ]
  },
  {
   "cell_type": "code",
   "execution_count": null,
   "id": "91ff4863-bada-4b7b-82b3-77262202051d",
   "metadata": {},
   "outputs": [],
   "source": [
    "fig3 = px.line(\n",
    "    moyenne_heure, \n",
    "    x=\"Heure\", \n",
    "    y=\"Comptage horaire\", \n",
    "    title=\"Moyenne des vélos par heure\",\n",
    "    markers=True\n",
    ")\n",
    "fig3.update_traces(line_color=\"#48628c\", line_width=3.5)\n",
    "\n",
    "fig3.update_xaxes(\n",
    "    tickmode=\"linear\",\n",
    "    dtick=1,   # 1 = un tick par unité\n",
    "    tick0=1    # commence à 1\n",
    ")\n",
    "\n",
    "fig3.update_layout(\n",
    "    template=\"plotly\",\n",
    "    title_x=0.5,\n",
    "    xaxis_title=\"Heure de la journée\",\n",
    "    yaxis_title=\"Nombre moyen de vélos\"\n",
    ")\n",
    "fig3.show()\n",
    "\n",
    "\n",
    "\n"
   ]
  },
  {
   "cell_type": "markdown",
   "id": "18ff87ff-52f8-4ef3-9aaa-12039d44001b",
   "metadata": {},
   "source": [
    "Ensuite, nous affichons les graphiques des moyennes journalières selon le jour de la semaine."
   ]
  },
  {
   "cell_type": "code",
   "execution_count": 30,
   "id": "81c0c86a-583c-45a2-80d3-382eb849de9b",
   "metadata": {},
   "outputs": [
    {
     "data": {
      "application/vnd.plotly.v1+json": {
       "config": {
        "plotlyServerURL": "https://plot.ly"
       },
       "data": [
        {
         "hovertemplate": "Jour=%{x}<br>Comptage horaire=%{marker.color}<extra></extra>",
         "legendgroup": "",
         "marker": {
          "color": {
           "bdata": "ZmZmZsbVBkFmZmZmZlQJQQAAAAAY7QdBAAAAACRSCEFmZmZmmucGQc3MzMyIMwJBAAAAAFhp/0A=",
           "dtype": "f8"
          },
          "coloraxis": "coloraxis",
          "pattern": {
           "shape": ""
          }
         },
         "name": "",
         "orientation": "v",
         "showlegend": false,
         "textposition": "auto",
         "type": "bar",
         "x": [
          "Lundi",
          "Mardi",
          "Mercredi",
          "Jeudi",
          "Vendredi",
          "Samedi",
          "Dimanche"
         ],
         "xaxis": "x",
         "y": {
          "bdata": "ZmZmZsbVBkFmZmZmZlQJQQAAAAAY7QdBAAAAACRSCEFmZmZmmucGQc3MzMyIMwJBAAAAAFhp/0A=",
          "dtype": "f8"
         },
         "yaxis": "y"
        }
       ],
       "layout": {
        "barmode": "relative",
        "coloraxis": {
         "colorbar": {
          "title": {
           "text": "Comptage horaire"
          }
         },
         "colorscale": [
          [
           0,
           "#6d93d1"
          ],
          [
           0.5,
           "#48628c"
          ],
          [
           1,
           "#222d45"
          ]
         ]
        },
        "legend": {
         "tracegroupgap": 0
        },
        "template": {
         "data": {
          "bar": [
           {
            "error_x": {
             "color": "#2a3f5f"
            },
            "error_y": {
             "color": "#2a3f5f"
            },
            "marker": {
             "line": {
              "color": "#E5ECF6",
              "width": 0.5
             },
             "pattern": {
              "fillmode": "overlay",
              "size": 10,
              "solidity": 0.2
             }
            },
            "type": "bar"
           }
          ],
          "barpolar": [
           {
            "marker": {
             "line": {
              "color": "#E5ECF6",
              "width": 0.5
             },
             "pattern": {
              "fillmode": "overlay",
              "size": 10,
              "solidity": 0.2
             }
            },
            "type": "barpolar"
           }
          ],
          "carpet": [
           {
            "aaxis": {
             "endlinecolor": "#2a3f5f",
             "gridcolor": "white",
             "linecolor": "white",
             "minorgridcolor": "white",
             "startlinecolor": "#2a3f5f"
            },
            "baxis": {
             "endlinecolor": "#2a3f5f",
             "gridcolor": "white",
             "linecolor": "white",
             "minorgridcolor": "white",
             "startlinecolor": "#2a3f5f"
            },
            "type": "carpet"
           }
          ],
          "choropleth": [
           {
            "colorbar": {
             "outlinewidth": 0,
             "ticks": ""
            },
            "type": "choropleth"
           }
          ],
          "contour": [
           {
            "colorbar": {
             "outlinewidth": 0,
             "ticks": ""
            },
            "colorscale": [
             [
              0,
              "#0d0887"
             ],
             [
              0.1111111111111111,
              "#46039f"
             ],
             [
              0.2222222222222222,
              "#7201a8"
             ],
             [
              0.3333333333333333,
              "#9c179e"
             ],
             [
              0.4444444444444444,
              "#bd3786"
             ],
             [
              0.5555555555555556,
              "#d8576b"
             ],
             [
              0.6666666666666666,
              "#ed7953"
             ],
             [
              0.7777777777777778,
              "#fb9f3a"
             ],
             [
              0.8888888888888888,
              "#fdca26"
             ],
             [
              1,
              "#f0f921"
             ]
            ],
            "type": "contour"
           }
          ],
          "contourcarpet": [
           {
            "colorbar": {
             "outlinewidth": 0,
             "ticks": ""
            },
            "type": "contourcarpet"
           }
          ],
          "heatmap": [
           {
            "colorbar": {
             "outlinewidth": 0,
             "ticks": ""
            },
            "colorscale": [
             [
              0,
              "#0d0887"
             ],
             [
              0.1111111111111111,
              "#46039f"
             ],
             [
              0.2222222222222222,
              "#7201a8"
             ],
             [
              0.3333333333333333,
              "#9c179e"
             ],
             [
              0.4444444444444444,
              "#bd3786"
             ],
             [
              0.5555555555555556,
              "#d8576b"
             ],
             [
              0.6666666666666666,
              "#ed7953"
             ],
             [
              0.7777777777777778,
              "#fb9f3a"
             ],
             [
              0.8888888888888888,
              "#fdca26"
             ],
             [
              1,
              "#f0f921"
             ]
            ],
            "type": "heatmap"
           }
          ],
          "histogram": [
           {
            "marker": {
             "pattern": {
              "fillmode": "overlay",
              "size": 10,
              "solidity": 0.2
             }
            },
            "type": "histogram"
           }
          ],
          "histogram2d": [
           {
            "colorbar": {
             "outlinewidth": 0,
             "ticks": ""
            },
            "colorscale": [
             [
              0,
              "#0d0887"
             ],
             [
              0.1111111111111111,
              "#46039f"
             ],
             [
              0.2222222222222222,
              "#7201a8"
             ],
             [
              0.3333333333333333,
              "#9c179e"
             ],
             [
              0.4444444444444444,
              "#bd3786"
             ],
             [
              0.5555555555555556,
              "#d8576b"
             ],
             [
              0.6666666666666666,
              "#ed7953"
             ],
             [
              0.7777777777777778,
              "#fb9f3a"
             ],
             [
              0.8888888888888888,
              "#fdca26"
             ],
             [
              1,
              "#f0f921"
             ]
            ],
            "type": "histogram2d"
           }
          ],
          "histogram2dcontour": [
           {
            "colorbar": {
             "outlinewidth": 0,
             "ticks": ""
            },
            "colorscale": [
             [
              0,
              "#0d0887"
             ],
             [
              0.1111111111111111,
              "#46039f"
             ],
             [
              0.2222222222222222,
              "#7201a8"
             ],
             [
              0.3333333333333333,
              "#9c179e"
             ],
             [
              0.4444444444444444,
              "#bd3786"
             ],
             [
              0.5555555555555556,
              "#d8576b"
             ],
             [
              0.6666666666666666,
              "#ed7953"
             ],
             [
              0.7777777777777778,
              "#fb9f3a"
             ],
             [
              0.8888888888888888,
              "#fdca26"
             ],
             [
              1,
              "#f0f921"
             ]
            ],
            "type": "histogram2dcontour"
           }
          ],
          "mesh3d": [
           {
            "colorbar": {
             "outlinewidth": 0,
             "ticks": ""
            },
            "type": "mesh3d"
           }
          ],
          "parcoords": [
           {
            "line": {
             "colorbar": {
              "outlinewidth": 0,
              "ticks": ""
             }
            },
            "type": "parcoords"
           }
          ],
          "pie": [
           {
            "automargin": true,
            "type": "pie"
           }
          ],
          "scatter": [
           {
            "fillpattern": {
             "fillmode": "overlay",
             "size": 10,
             "solidity": 0.2
            },
            "type": "scatter"
           }
          ],
          "scatter3d": [
           {
            "line": {
             "colorbar": {
              "outlinewidth": 0,
              "ticks": ""
             }
            },
            "marker": {
             "colorbar": {
              "outlinewidth": 0,
              "ticks": ""
             }
            },
            "type": "scatter3d"
           }
          ],
          "scattercarpet": [
           {
            "marker": {
             "colorbar": {
              "outlinewidth": 0,
              "ticks": ""
             }
            },
            "type": "scattercarpet"
           }
          ],
          "scattergeo": [
           {
            "marker": {
             "colorbar": {
              "outlinewidth": 0,
              "ticks": ""
             }
            },
            "type": "scattergeo"
           }
          ],
          "scattergl": [
           {
            "marker": {
             "colorbar": {
              "outlinewidth": 0,
              "ticks": ""
             }
            },
            "type": "scattergl"
           }
          ],
          "scattermap": [
           {
            "marker": {
             "colorbar": {
              "outlinewidth": 0,
              "ticks": ""
             }
            },
            "type": "scattermap"
           }
          ],
          "scattermapbox": [
           {
            "marker": {
             "colorbar": {
              "outlinewidth": 0,
              "ticks": ""
             }
            },
            "type": "scattermapbox"
           }
          ],
          "scatterpolar": [
           {
            "marker": {
             "colorbar": {
              "outlinewidth": 0,
              "ticks": ""
             }
            },
            "type": "scatterpolar"
           }
          ],
          "scatterpolargl": [
           {
            "marker": {
             "colorbar": {
              "outlinewidth": 0,
              "ticks": ""
             }
            },
            "type": "scatterpolargl"
           }
          ],
          "scatterternary": [
           {
            "marker": {
             "colorbar": {
              "outlinewidth": 0,
              "ticks": ""
             }
            },
            "type": "scatterternary"
           }
          ],
          "surface": [
           {
            "colorbar": {
             "outlinewidth": 0,
             "ticks": ""
            },
            "colorscale": [
             [
              0,
              "#0d0887"
             ],
             [
              0.1111111111111111,
              "#46039f"
             ],
             [
              0.2222222222222222,
              "#7201a8"
             ],
             [
              0.3333333333333333,
              "#9c179e"
             ],
             [
              0.4444444444444444,
              "#bd3786"
             ],
             [
              0.5555555555555556,
              "#d8576b"
             ],
             [
              0.6666666666666666,
              "#ed7953"
             ],
             [
              0.7777777777777778,
              "#fb9f3a"
             ],
             [
              0.8888888888888888,
              "#fdca26"
             ],
             [
              1,
              "#f0f921"
             ]
            ],
            "type": "surface"
           }
          ],
          "table": [
           {
            "cells": {
             "fill": {
              "color": "#EBF0F8"
             },
             "line": {
              "color": "white"
             }
            },
            "header": {
             "fill": {
              "color": "#C8D4E3"
             },
             "line": {
              "color": "white"
             }
            },
            "type": "table"
           }
          ]
         },
         "layout": {
          "annotationdefaults": {
           "arrowcolor": "#2a3f5f",
           "arrowhead": 0,
           "arrowwidth": 1
          },
          "autotypenumbers": "strict",
          "coloraxis": {
           "colorbar": {
            "outlinewidth": 0,
            "ticks": ""
           }
          },
          "colorscale": {
           "diverging": [
            [
             0,
             "#8e0152"
            ],
            [
             0.1,
             "#c51b7d"
            ],
            [
             0.2,
             "#de77ae"
            ],
            [
             0.3,
             "#f1b6da"
            ],
            [
             0.4,
             "#fde0ef"
            ],
            [
             0.5,
             "#f7f7f7"
            ],
            [
             0.6,
             "#e6f5d0"
            ],
            [
             0.7,
             "#b8e186"
            ],
            [
             0.8,
             "#7fbc41"
            ],
            [
             0.9,
             "#4d9221"
            ],
            [
             1,
             "#276419"
            ]
           ],
           "sequential": [
            [
             0,
             "#0d0887"
            ],
            [
             0.1111111111111111,
             "#46039f"
            ],
            [
             0.2222222222222222,
             "#7201a8"
            ],
            [
             0.3333333333333333,
             "#9c179e"
            ],
            [
             0.4444444444444444,
             "#bd3786"
            ],
            [
             0.5555555555555556,
             "#d8576b"
            ],
            [
             0.6666666666666666,
             "#ed7953"
            ],
            [
             0.7777777777777778,
             "#fb9f3a"
            ],
            [
             0.8888888888888888,
             "#fdca26"
            ],
            [
             1,
             "#f0f921"
            ]
           ],
           "sequentialminus": [
            [
             0,
             "#0d0887"
            ],
            [
             0.1111111111111111,
             "#46039f"
            ],
            [
             0.2222222222222222,
             "#7201a8"
            ],
            [
             0.3333333333333333,
             "#9c179e"
            ],
            [
             0.4444444444444444,
             "#bd3786"
            ],
            [
             0.5555555555555556,
             "#d8576b"
            ],
            [
             0.6666666666666666,
             "#ed7953"
            ],
            [
             0.7777777777777778,
             "#fb9f3a"
            ],
            [
             0.8888888888888888,
             "#fdca26"
            ],
            [
             1,
             "#f0f921"
            ]
           ]
          },
          "colorway": [
           "#636efa",
           "#EF553B",
           "#00cc96",
           "#ab63fa",
           "#FFA15A",
           "#19d3f3",
           "#FF6692",
           "#B6E880",
           "#FF97FF",
           "#FECB52"
          ],
          "font": {
           "color": "#2a3f5f"
          },
          "geo": {
           "bgcolor": "white",
           "lakecolor": "white",
           "landcolor": "#E5ECF6",
           "showlakes": true,
           "showland": true,
           "subunitcolor": "white"
          },
          "hoverlabel": {
           "align": "left"
          },
          "hovermode": "closest",
          "mapbox": {
           "style": "light"
          },
          "paper_bgcolor": "white",
          "plot_bgcolor": "#E5ECF6",
          "polar": {
           "angularaxis": {
            "gridcolor": "white",
            "linecolor": "white",
            "ticks": ""
           },
           "bgcolor": "#E5ECF6",
           "radialaxis": {
            "gridcolor": "white",
            "linecolor": "white",
            "ticks": ""
           }
          },
          "scene": {
           "xaxis": {
            "backgroundcolor": "#E5ECF6",
            "gridcolor": "white",
            "gridwidth": 2,
            "linecolor": "white",
            "showbackground": true,
            "ticks": "",
            "zerolinecolor": "white"
           },
           "yaxis": {
            "backgroundcolor": "#E5ECF6",
            "gridcolor": "white",
            "gridwidth": 2,
            "linecolor": "white",
            "showbackground": true,
            "ticks": "",
            "zerolinecolor": "white"
           },
           "zaxis": {
            "backgroundcolor": "#E5ECF6",
            "gridcolor": "white",
            "gridwidth": 2,
            "linecolor": "white",
            "showbackground": true,
            "ticks": "",
            "zerolinecolor": "white"
           }
          },
          "shapedefaults": {
           "line": {
            "color": "#2a3f5f"
           }
          },
          "ternary": {
           "aaxis": {
            "gridcolor": "white",
            "linecolor": "white",
            "ticks": ""
           },
           "baxis": {
            "gridcolor": "white",
            "linecolor": "white",
            "ticks": ""
           },
           "bgcolor": "#E5ECF6",
           "caxis": {
            "gridcolor": "white",
            "linecolor": "white",
            "ticks": ""
           }
          },
          "title": {
           "x": 0.05
          },
          "xaxis": {
           "automargin": true,
           "gridcolor": "white",
           "linecolor": "white",
           "ticks": "",
           "title": {
            "standoff": 15
           },
           "zerolinecolor": "white",
           "zerolinewidth": 2
          },
          "yaxis": {
           "automargin": true,
           "gridcolor": "white",
           "linecolor": "white",
           "ticks": "",
           "title": {
            "standoff": 15
           },
           "zerolinecolor": "white",
           "zerolinewidth": 2
          }
         }
        },
        "title": {
         "text": "Moyenne journalière des vélos par jour de la semaine",
         "x": 0.5
        },
        "xaxis": {
         "anchor": "y",
         "domain": [
          0,
          1
         ],
         "title": {
          "text": "Jour de la semaine"
         }
        },
        "yaxis": {
         "anchor": "x",
         "domain": [
          0,
          1
         ],
         "title": {
          "text": "Nombre moyen de vélos"
         }
        }
       }
      },
      "image/png": "[encoded data removed]"
     },
     "metadata": {},
     "output_type": "display_data"
    }
   ],
   "source": [
    "fig4 = px.bar(\n",
    "    moyenne_jour, \n",
    "    x=\"Jour\", \n",
    "    y=\"Comptage horaire\", \n",
    "    title=\"Moyenne journalière des vélos par jour de la semaine\", \n",
    "    color=\"Comptage horaire\",\n",
    "    color_continuous_scale=[\n",
    "        (0, \"#6d93d1\"),   \n",
    "        (0.5, \"#48628c\"), \n",
    "        (1, \"#222d45\")    \n",
    "    ]\n",
    ")\n",
    "fig4.update_layout(\n",
    "    template=\"plotly\",\n",
    "    title_x=0.5,\n",
    "    xaxis_title=\"Jour de la semaine\",\n",
    "    yaxis_title=\"Nombre moyen de vélos\"\n",
    ")\n",
    "\n",
    "fig4.show()\n",
    "\n",
    "\n"
   ]
  },
  {
   "cell_type": "markdown",
   "id": "6c4f337e-dc5d-40b0-b5a2-962b99b1e627",
   "metadata": {},
   "source": [
    "Nous passons ensuite aux graphiques des moyennes journalières selon les mois de l'année."
   ]
  },
  {
   "cell_type": "code",
   "execution_count": 46,
   "id": "2ca420f8-91b6-41d0-8853-5a1d393d9bf0",
   "metadata": {
    "scrolled": true
   },
   "outputs": [
    {
     "data": {
      "application/vnd.plotly.v1+json": {
       "config": {
        "plotlyServerURL": "https://plot.ly"
       },
       "data": [
        {
         "hovertemplate": "Mois=%{x}<br>Moyenne_jour=%{marker.color}<extra></extra>",
         "legendgroup": "",
         "marker": {
          "color": {
           "bdata": "zczMzMz9/UAzMzMzU0kBQQAAAADcdAdBmpmZmfEYCUEAAAAAbK4JQTMzMzPLWAxBzczMzIRKB0GamZmZpbUFQTMzMzPbUQhBAAAAANBaBkEzMzMz10YDQc3MzMx0C/1A",
           "dtype": "f8"
          },
          "coloraxis": "coloraxis",
          "pattern": {
           "shape": ""
          }
         },
         "name": "",
         "orientation": "v",
         "showlegend": false,
         "textposition": "auto",
         "type": "bar",
         "x": [
          "Janvier",
          "Février",
          "Mars",
          "Avril",
          "Mai",
          "Juin",
          "Juillet",
          "Août",
          "Septembre",
          "Octobre",
          "Novembre",
          "Décembre"
         ],
         "xaxis": "x",
         "y": {
          "bdata": "zczMzMz9/UAzMzMzU0kBQQAAAADcdAdBmpmZmfEYCUEAAAAAbK4JQTMzMzPLWAxBzczMzIRKB0GamZmZpbUFQTMzMzPbUQhBAAAAANBaBkEzMzMz10YDQc3MzMx0C/1A",
          "dtype": "f8"
         },
         "yaxis": "y"
        }
       ],
       "layout": {
        "barmode": "relative",
        "coloraxis": {
         "colorbar": {
          "title": {
           "text": "Moyenne_jour"
          }
         },
         "colorscale": [
          [
           0,
           "#6d93d1"
          ],
          [
           0.5,
           "#48628c"
          ],
          [
           1,
           "#222d45"
          ]
         ]
        },
        "legend": {
         "tracegroupgap": 0
        },
        "template": {
         "data": {
          "bar": [
           {
            "error_x": {
             "color": "#2a3f5f"
            },
            "error_y": {
             "color": "#2a3f5f"
            },
            "marker": {
             "line": {
              "color": "#E5ECF6",
              "width": 0.5
             },
             "pattern": {
              "fillmode": "overlay",
              "size": 10,
              "solidity": 0.2
             }
            },
            "type": "bar"
           }
          ],
          "barpolar": [
           {
            "marker": {
             "line": {
              "color": "#E5ECF6",
              "width": 0.5
             },
             "pattern": {
              "fillmode": "overlay",
              "size": 10,
              "solidity": 0.2
             }
            },
            "type": "barpolar"
           }
          ],
          "carpet": [
           {
            "aaxis": {
             "endlinecolor": "#2a3f5f",
             "gridcolor": "white",
             "linecolor": "white",
             "minorgridcolor": "white",
             "startlinecolor": "#2a3f5f"
            },
            "baxis": {
             "endlinecolor": "#2a3f5f",
             "gridcolor": "white",
             "linecolor": "white",
             "minorgridcolor": "white",
             "startlinecolor": "#2a3f5f"
            },
            "type": "carpet"
           }
          ],
          "choropleth": [
           {
            "colorbar": {
             "outlinewidth": 0,
             "ticks": ""
            },
            "type": "choropleth"
           }
          ],
          "contour": [
           {
            "colorbar": {
             "outlinewidth": 0,
             "ticks": ""
            },
            "colorscale": [
             [
              0,
              "#0d0887"
             ],
             [
              0.1111111111111111,
              "#46039f"
             ],
             [
              0.2222222222222222,
              "#7201a8"
             ],
             [
              0.3333333333333333,
              "#9c179e"
             ],
             [
              0.4444444444444444,
              "#bd3786"
             ],
             [
              0.5555555555555556,
              "#d8576b"
             ],
             [
              0.6666666666666666,
              "#ed7953"
             ],
             [
              0.7777777777777778,
              "#fb9f3a"
             ],
             [
              0.8888888888888888,
              "#fdca26"
             ],
             [
              1,
              "#f0f921"
             ]
            ],
            "type": "contour"
           }
          ],
          "contourcarpet": [
           {
            "colorbar": {
             "outlinewidth": 0,
             "ticks": ""
            },
            "type": "contourcarpet"
           }
          ],
          "heatmap": [
           {
            "colorbar": {
             "outlinewidth": 0,
             "ticks": ""
            },
            "colorscale": [
             [
              0,
              "#0d0887"
             ],
             [
              0.1111111111111111,
              "#46039f"
             ],
             [
              0.2222222222222222,
              "#7201a8"
             ],
             [
              0.3333333333333333,
              "#9c179e"
             ],
             [
              0.4444444444444444,
              "#bd3786"
             ],
             [
              0.5555555555555556,
              "#d8576b"
             ],
             [
              0.6666666666666666,
              "#ed7953"
             ],
             [
              0.7777777777777778,
              "#fb9f3a"
             ],
             [
              0.8888888888888888,
              "#fdca26"
             ],
             [
              1,
              "#f0f921"
             ]
            ],
            "type": "heatmap"
           }
          ],
          "histogram": [
           {
            "marker": {
             "pattern": {
              "fillmode": "overlay",
              "size": 10,
              "solidity": 0.2
             }
            },
            "type": "histogram"
           }
          ],
          "histogram2d": [
           {
            "colorbar": {
             "outlinewidth": 0,
             "ticks": ""
            },
            "colorscale": [
             [
              0,
              "#0d0887"
             ],
             [
              0.1111111111111111,
              "#46039f"
             ],
             [
              0.2222222222222222,
              "#7201a8"
             ],
             [
              0.3333333333333333,
              "#9c179e"
             ],
             [
              0.4444444444444444,
              "#bd3786"
             ],
             [
              0.5555555555555556,
              "#d8576b"
             ],
             [
              0.6666666666666666,
              "#ed7953"
             ],
             [
              0.7777777777777778,
              "#fb9f3a"
             ],
             [
              0.8888888888888888,
              "#fdca26"
             ],
             [
              1,
              "#f0f921"
             ]
            ],
            "type": "histogram2d"
           }
          ],
          "histogram2dcontour": [
           {
            "colorbar": {
             "outlinewidth": 0,
             "ticks": ""
            },
            "colorscale": [
             [
              0,
              "#0d0887"
             ],
             [
              0.1111111111111111,
              "#46039f"
             ],
             [
              0.2222222222222222,
              "#7201a8"
             ],
             [
              0.3333333333333333,
              "#9c179e"
             ],
             [
              0.4444444444444444,
              "#bd3786"
             ],
             [
              0.5555555555555556,
              "#d8576b"
             ],
             [
              0.6666666666666666,
              "#ed7953"
             ],
             [
              0.7777777777777778,
              "#fb9f3a"
             ],
             [
              0.8888888888888888,
              "#fdca26"
             ],
             [
              1,
              "#f0f921"
             ]
            ],
            "type": "histogram2dcontour"
           }
          ],
          "mesh3d": [
           {
            "colorbar": {
             "outlinewidth": 0,
             "ticks": ""
            },
            "type": "mesh3d"
           }
          ],
          "parcoords": [
           {
            "line": {
             "colorbar": {
              "outlinewidth": 0,
              "ticks": ""
             }
            },
            "type": "parcoords"
           }
          ],
          "pie": [
           {
            "automargin": true,
            "type": "pie"
           }
          ],
          "scatter": [
           {
            "fillpattern": {
             "fillmode": "overlay",
             "size": 10,
             "solidity": 0.2
            },
            "type": "scatter"
           }
          ],
          "scatter3d": [
           {
            "line": {
             "colorbar": {
              "outlinewidth": 0,
              "ticks": ""
             }
            },
            "marker": {
             "colorbar": {
              "outlinewidth": 0,
              "ticks": ""
             }
            },
            "type": "scatter3d"
           }
          ],
          "scattercarpet": [
           {
            "marker": {
             "colorbar": {
              "outlinewidth": 0,
              "ticks": ""
             }
            },
            "type": "scattercarpet"
           }
          ],
          "scattergeo": [
           {
            "marker": {
             "colorbar": {
              "outlinewidth": 0,
              "ticks": ""
             }
            },
            "type": "scattergeo"
           }
          ],
          "scattergl": [
           {
            "marker": {
             "colorbar": {
              "outlinewidth": 0,
              "ticks": ""
             }
            },
            "type": "scattergl"
           }
          ],
          "scattermap": [
           {
            "marker": {
             "colorbar": {
              "outlinewidth": 0,
              "ticks": ""
             }
            },
            "type": "scattermap"
           }
          ],
          "scattermapbox": [
           {
            "marker": {
             "colorbar": {
              "outlinewidth": 0,
              "ticks": ""
             }
            },
            "type": "scattermapbox"
           }
          ],
          "scatterpolar": [
           {
            "marker": {
             "colorbar": {
              "outlinewidth": 0,
              "ticks": ""
             }
            },
            "type": "scatterpolar"
           }
          ],
          "scatterpolargl": [
           {
            "marker": {
             "colorbar": {
              "outlinewidth": 0,
              "ticks": ""
             }
            },
            "type": "scatterpolargl"
           }
          ],
          "scatterternary": [
           {
            "marker": {
             "colorbar": {
              "outlinewidth": 0,
              "ticks": ""
             }
            },
            "type": "scatterternary"
           }
          ],
          "surface": [
           {
            "colorbar": {
             "outlinewidth": 0,
             "ticks": ""
            },
            "colorscale": [
             [
              0,
              "#0d0887"
             ],
             [
              0.1111111111111111,
              "#46039f"
             ],
             [
              0.2222222222222222,
              "#7201a8"
             ],
             [
              0.3333333333333333,
              "#9c179e"
             ],
             [
              0.4444444444444444,
              "#bd3786"
             ],
             [
              0.5555555555555556,
              "#d8576b"
             ],
             [
              0.6666666666666666,
              "#ed7953"
             ],
             [
              0.7777777777777778,
              "#fb9f3a"
             ],
             [
              0.8888888888888888,
              "#fdca26"
             ],
             [
              1,
              "#f0f921"
             ]
            ],
            "type": "surface"
           }
          ],
          "table": [
           {
            "cells": {
             "fill": {
              "color": "#EBF0F8"
             },
             "line": {
              "color": "white"
             }
            },
            "header": {
             "fill": {
              "color": "#C8D4E3"
             },
             "line": {
              "color": "white"
             }
            },
            "type": "table"
           }
          ]
         },
         "layout": {
          "annotationdefaults": {
           "arrowcolor": "#2a3f5f",
           "arrowhead": 0,
           "arrowwidth": 1
          },
          "autotypenumbers": "strict",
          "coloraxis": {
           "colorbar": {
            "outlinewidth": 0,
            "ticks": ""
           }
          },
          "colorscale": {
           "diverging": [
            [
             0,
             "#8e0152"
            ],
            [
             0.1,
             "#c51b7d"
            ],
            [
             0.2,
             "#de77ae"
            ],
            [
             0.3,
             "#f1b6da"
            ],
            [
             0.4,
             "#fde0ef"
            ],
            [
             0.5,
             "#f7f7f7"
            ],
            [
             0.6,
             "#e6f5d0"
            ],
            [
             0.7,
             "#b8e186"
            ],
            [
             0.8,
             "#7fbc41"
            ],
            [
             0.9,
             "#4d9221"
            ],
            [
             1,
             "#276419"
            ]
           ],
           "sequential": [
            [
             0,
             "#0d0887"
            ],
            [
             0.1111111111111111,
             "#46039f"
            ],
            [
             0.2222222222222222,
             "#7201a8"
            ],
            [
             0.3333333333333333,
             "#9c179e"
            ],
            [
             0.4444444444444444,
             "#bd3786"
            ],
            [
             0.5555555555555556,
             "#d8576b"
            ],
            [
             0.6666666666666666,
             "#ed7953"
            ],
            [
             0.7777777777777778,
             "#fb9f3a"
            ],
            [
             0.8888888888888888,
             "#fdca26"
            ],
            [
             1,
             "#f0f921"
            ]
           ],
           "sequentialminus": [
            [
             0,
             "#0d0887"
            ],
            [
             0.1111111111111111,
             "#46039f"
            ],
            [
             0.2222222222222222,
             "#7201a8"
            ],
            [
             0.3333333333333333,
             "#9c179e"
            ],
            [
             0.4444444444444444,
             "#bd3786"
            ],
            [
             0.5555555555555556,
             "#d8576b"
            ],
            [
             0.6666666666666666,
             "#ed7953"
            ],
            [
             0.7777777777777778,
             "#fb9f3a"
            ],
            [
             0.8888888888888888,
             "#fdca26"
            ],
            [
             1,
             "#f0f921"
            ]
           ]
          },
          "colorway": [
           "#636efa",
           "#EF553B",
           "#00cc96",
           "#ab63fa",
           "#FFA15A",
           "#19d3f3",
           "#FF6692",
           "#B6E880",
           "#FF97FF",
           "#FECB52"
          ],
          "font": {
           "color": "#2a3f5f"
          },
          "geo": {
           "bgcolor": "white",
           "lakecolor": "white",
           "landcolor": "#E5ECF6",
           "showlakes": true,
           "showland": true,
           "subunitcolor": "white"
          },
          "hoverlabel": {
           "align": "left"
          },
          "hovermode": "closest",
          "mapbox": {
           "style": "light"
          },
          "paper_bgcolor": "white",
          "plot_bgcolor": "#E5ECF6",
          "polar": {
           "angularaxis": {
            "gridcolor": "white",
            "linecolor": "white",
            "ticks": ""
           },
           "bgcolor": "#E5ECF6",
           "radialaxis": {
            "gridcolor": "white",
            "linecolor": "white",
            "ticks": ""
           }
          },
          "scene": {
           "xaxis": {
            "backgroundcolor": "#E5ECF6",
            "gridcolor": "white",
            "gridwidth": 2,
            "linecolor": "white",
            "showbackground": true,
            "ticks": "",
            "zerolinecolor": "white"
           },
           "yaxis": {
            "backgroundcolor": "#E5ECF6",
            "gridcolor": "white",
            "gridwidth": 2,
            "linecolor": "white",
            "showbackground": true,
            "ticks": "",
            "zerolinecolor": "white"
           },
           "zaxis": {
            "backgroundcolor": "#E5ECF6",
            "gridcolor": "white",
            "gridwidth": 2,
            "linecolor": "white",
            "showbackground": true,
            "ticks": "",
            "zerolinecolor": "white"
           }
          },
          "shapedefaults": {
           "line": {
            "color": "#2a3f5f"
           }
          },
          "ternary": {
           "aaxis": {
            "gridcolor": "white",
            "linecolor": "white",
            "ticks": ""
           },
           "baxis": {
            "gridcolor": "white",
            "linecolor": "white",
            "ticks": ""
           },
           "bgcolor": "#E5ECF6",
           "caxis": {
            "gridcolor": "white",
            "linecolor": "white",
            "ticks": ""
           }
          },
          "title": {
           "x": 0.05
          },
          "xaxis": {
           "automargin": true,
           "gridcolor": "white",
           "linecolor": "white",
           "ticks": "",
           "title": {
            "standoff": 15
           },
           "zerolinecolor": "white",
           "zerolinewidth": 2
          },
          "yaxis": {
           "automargin": true,
           "gridcolor": "white",
           "linecolor": "white",
           "ticks": "",
           "title": {
            "standoff": 15
           },
           "zerolinecolor": "white",
           "zerolinewidth": 2
          }
         }
        },
        "title": {
         "text": "Moyenne journalière des vélos par mois",
         "x": 0.5
        },
        "xaxis": {
         "anchor": "y",
         "domain": [
          0,
          1
         ],
         "title": {
          "text": "Mois"
         }
        },
        "yaxis": {
         "anchor": "x",
         "domain": [
          0,
          1
         ],
         "title": {
          "text": "Nombre moyen de vélos"
         }
        }
       }
      },
      "image/png": "[encoded data removed]"
     },
     "metadata": {},
     "output_type": "display_data"
    }
   ],
   "source": [
    "fig5 = px.bar(\n",
    "    moyenne_mois, \n",
    "    x=\"Mois\", \n",
    "    y=\"Moyenne_jour\", \n",
    "    title=\"Moyenne journalière des vélos par mois\", \n",
    "    color=\"Moyenne_jour\",\n",
    "    color_continuous_scale=[\n",
    "        (0, \"#6d93d1\"),   \n",
    "        (0.5, \"#48628c\"), \n",
    "        (1, \"#222d45\")    \n",
    "    ]\n",
    ")\n",
    "fig5.update_layout(\n",
    "    template=\"plotly\",\n",
    "    title_x=0.5,\n",
    "    xaxis_title=\"Mois\",\n",
    "    yaxis_title=\"Nombre moyen de vélos\"\n",
    ")\n",
    "\n",
    "fig5.show()\n",
    "\n",
    "\n",
    "\n",
    "\n"
   ]
  },
  {
   "cell_type": "markdown",
   "id": "973eb0a6-96f3-4ef0-8cd5-60cf1b05d782",
   "metadata": {},
   "source": [
    "Enfin, nous terminons par une carte représentant la moyenne du nombre de vélos passant devant les capteurs à 17h."
   ]
  },
  {
   "cell_type": "code",
   "execution_count": null,
   "id": "03d493ab-ce14-4486-9ad9-c303e1effcd2",
   "metadata": {},
   "outputs": [],
   "source": [
    "int_heure = df.groupby([\"Nom du site de comptage\", \"lat\", \"lon\", \"Heure\"]).agg(\n",
    "    Velos=(\"Comptage horaire\", \"sum\")\n",
    ").reset_index()\n",
    "\n",
    "int_17h = int_heure[int_heure[\"Heure\"] == 17]\n",
    "\n",
    "vmin = int_17h[\"Velos\"].min()\n",
    "vmax = int_17h[\"Velos\"].max()\n",
    "\n",
    "fig = px.scatter_map(\n",
    "    int_17h,\n",
    "    lat=\"lat\",\n",
    "    lon=\"lon\",\n",
    "    size=\"Velos\",\n",
    "    color=\"Velos\",\n",
    "    hover_name=\"Nom du site de comptage\",\n",
    "    size_max=35,\n",
    "    color_continuous_scale=\"Viridis\",\n",
    "    range_color=[vmin, vmax],\n",
    "    zoom=12,\n",
    "    map_style=\"carto-positron\"  \n",
    ")\n",
    "\n",
    "fig.update_traces(\n",
    "    marker=dict(\n",
    "        opacity=0.7,  \n",
    "        sizemode=\"area\"\n",
    "    )\n",
    ")\n",
    "\n",
    "fig.update_layout(\n",
    "    width=700,\n",
    "    height=700,\n",
    "    title=\"Trafic cycliste à Paris - 17h\",\n",
    "    title_x=0.5,  # centrer le titre\n",
    "    margin=dict(l=20, r=20, t=50, b=20),\n",
    "    coloraxis_colorbar=dict(title=\"Nombre de vélos\"),\n",
    "    map=dict(center={\"lat\": 48.8566, \"lon\": 2.3441}, zoom=10.8)  # centrage sur Paris\n",
    ")\n",
    "\n",
    "fig.show()"
   ]
  },
  {
   "cell_type": "code",
   "execution_count": null,
   "id": "eecf628d-db26-4593-bea8-1f937c1268fe",
   "metadata": {},
   "outputs": [],
   "source": []
  }
 ],
 "metadata": {
  "kernelspec": {
   "display_name": "Python 3 (ipykernel)",
   "language": "python",
   "name": "python3"
  },
  "language_info": {
   "codemirror_mode": {
    "name": "ipython",
    "version": 3
   },
   "file_extension": ".py",
   "mimetype": "text/x-python",
   "name": "python",
   "nbconvert_exporter": "python",
   "pygments_lexer": "ipython3",
   "version": "3.13.5"
  }
 },
 "nbformat": 4,
 "nbformat_minor": 5
}
